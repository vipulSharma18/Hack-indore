{
  "nbformat": 4,
  "nbformat_minor": 0,
  "metadata": {
    "kernelspec": {
      "name": "python3",
      "display_name": "Python 3"
    },
    "language_info": {
      "codemirror_mode": {
        "name": "ipython",
        "version": 3
      },
      "file_extension": ".py",
      "mimetype": "text/x-python",
      "name": "python",
      "nbconvert_exporter": "python",
      "pygments_lexer": "ipython3",
      "version": "3.7.1"
    },
    "colab": {
      "name": "hi_classifier.ipynb",
      "provenance": [],
      "collapsed_sections": [],
      "include_colab_link": true
    },
    "accelerator": "GPU"
  },
  "cells": [
    {
      "cell_type": "markdown",
      "metadata": {
        "id": "view-in-github",
        "colab_type": "text"
      },
      "source": [
        "<a href=\"https://colab.research.google.com/github/vipulSharma18/Hack-indore/blob/master/hi_classifier.ipynb\" target=\"_parent\"><img src=\"https://colab.research.google.com/assets/colab-badge.svg\" alt=\"Open In Colab\"/></a>"
      ]
    },
    {
      "cell_type": "code",
      "metadata": {
        "id": "Jnmx9fTxgtUT",
        "colab_type": "code",
        "colab": {}
      },
      "source": [
        "import pandas as pd\n",
        "import numpy as np\n",
        "import matplotlib.pyplot as plt\n",
        "\n",
        "import os\n",
        "import shutil\n",
        "import re\n",
        "import seaborn as sns\n",
        "%matplotlib inline\n",
        "%reload_ext autoreload\n",
        "%autoreload 2"
      ],
      "execution_count": 0,
      "outputs": []
    },
    {
      "cell_type": "code",
      "metadata": {
        "id": "HGWuO7m-h4ie",
        "colab_type": "code",
        "colab": {
          "base_uri": "https://localhost:8080/",
          "height": 34
        },
        "outputId": "44af9221-e595-4fdf-cb91-c270981e78d5"
      },
      "source": [
        "!pip install Pathlib"
      ],
      "execution_count": 7,
      "outputs": [
        {
          "output_type": "stream",
          "text": [
            "Requirement already satisfied: Pathlib in /usr/local/lib/python3.6/dist-packages (1.0.1)\n"
          ],
          "name": "stdout"
        }
      ]
    },
    {
      "cell_type": "code",
      "metadata": {
        "id": "9GLWKXKihpOO",
        "colab_type": "code",
        "colab": {}
      },
      "source": [
        "!pip install fastai"
      ],
      "execution_count": 0,
      "outputs": []
    },
    {
      "cell_type": "code",
      "metadata": {
        "id": "mwjTeFxYgtUW",
        "colab_type": "code",
        "colab": {}
      },
      "source": [
        "%config InlineBackend.figure_format = 'retina'\n",
        "import random\n",
        "from fastai.vision import *\n",
        "from fastai.metrics import error_rate\n",
        "from pathlib import Path\n",
        "from glob2 import glob\n",
        "from sklearn.metrics import confusion_matrix"
      ],
      "execution_count": 0,
      "outputs": []
    },
    {
      "cell_type": "code",
      "metadata": {
        "id": "WSvp0EJrgtUa",
        "colab_type": "code",
        "colab": {}
      },
      "source": [
        "def split_indices(folder, seed1, seed2):\n",
        "    n = len(os.listdir(folder)) - 1\n",
        "    full_set = list(range(1,n+1))\n",
        "    \n",
        "    #train indices\n",
        "    random.seed(seed1)\n",
        "    train = random.sample(list(range(1,n+1)),int(.5*n))\n",
        "    \n",
        "    #temp remaining to be split into validation and test\n",
        "    remain = list(set(full_set) - set(train))\n",
        "    \n",
        "    #validation and test set creation\n",
        "    random.seed(seed2)\n",
        "    valid = random.sample(remain,int(.5*len(remain)))\n",
        "    test = list(set(remain) - set(valid))\n",
        "    \n",
        "    return (train, valid, test)\n",
        "\n",
        "def get_names(waste_type, indices):\n",
        "    file_names = [waste_type + ' (' + str(i) + ')' + \".jpg\" for i in indices]\n",
        "    return(file_names)\n",
        "\n",
        "def move_files(source_files, destination_folder):\n",
        "    for file in source_files:\n",
        "        shutil.move(file, destination_folder)"
      ],
      "execution_count": 0,
      "outputs": []
    },
    {
      "cell_type": "code",
      "metadata": {
        "id": "YaGBhP5ogtUc",
        "colab_type": "code",
        "colab": {}
      },
      "source": [
        "subsets = ['train', 'valid']\n",
        "waste_types = ['wet_waste', 'solid_waste']\n",
        "\n",
        "#creation of subdirectory according to ImageNet format\n",
        "for subset in subsets:\n",
        "    for waste_type in waste_types:\n",
        "        folder = os.path.join('data', subset, waste_type)\n",
        "        if not os.path.exists(os.path.join('data', 'test')):\n",
        "            os.makedirs(folder)\n",
        "if not os.path.exists(os.path.join('data', 'test')):\n",
        "    os.makedirs(os.path.join('data', 'test'))\n",
        "\n",
        "#moving of files\n",
        "for waste_type in waste_types:\n",
        "    source_folder = os.path.join(waste_type)    #stored in HackIndore not in HackIndore/data\n",
        "    train_ind, valid_ind, test_ind = split_indices(source_folder, 1, 1)\n",
        "    \n",
        "    #move source files to train\n",
        "    train_names = get_names(waste_type, train_ind)\n",
        "    train_source_files = [os.path.join(source_folder, name) for name in train_names]\n",
        "    train_dest = \"data/train/\"  + waste_type\n",
        "    move_files(train_source_files, train_dest)\n",
        "    \n",
        "    ##move source files to valid\n",
        "    valid_names = get_names(waste_type,valid_ind)\n",
        "    valid_source_files = [os.path.join(source_folder,name) for name in valid_names]\n",
        "    valid_dest = \"data/valid/\"+waste_type\n",
        "    move_files(valid_source_files,valid_dest)\n",
        "    \n",
        "    ##move source files to test\n",
        "    test_names = get_names(waste_type, test_ind)\n",
        "    test_source_files = [os.path.join(source_folder,name) for name in test_names]\n",
        "    ## I use data/test here because the images can be mixed up\n",
        "    move_files(test_source_files,\"data/test\")"
      ],
      "execution_count": 0,
      "outputs": []
    },
    {
      "cell_type": "code",
      "metadata": {
        "id": "80VQuIU4gtUe",
        "colab_type": "code",
        "colab": {}
      },
      "source": [
        "DIM1 = 384\n",
        "DIM2 = 512"
      ],
      "execution_count": 0,
      "outputs": []
    },
    {
      "cell_type": "code",
      "metadata": {
        "id": "E3TFihEegtUg",
        "colab_type": "code",
        "colab": {},
        "outputId": "aced338c-0bc6-4120-cc4c-2d6750f7c2c5"
      },
      "source": [
        "path = Path(os.getcwd())"
      ],
      "execution_count": 0,
      "outputs": [
        {
          "output_type": "error",
          "ename": "NameError",
          "evalue": "name 'Path' is not defined",
          "traceback": [
            "\u001b[1;31m---------------------------------------------------------------------------\u001b[0m",
            "\u001b[1;31mNameError\u001b[0m                                 Traceback (most recent call last)",
            "\u001b[1;32m<ipython-input-57-2bffad8d6274>\u001b[0m in \u001b[0;36m<module>\u001b[1;34m\u001b[0m\n\u001b[1;32m----> 1\u001b[1;33m \u001b[0mpath\u001b[0m \u001b[1;33m=\u001b[0m \u001b[0mPath\u001b[0m\u001b[1;33m(\u001b[0m\u001b[0mos\u001b[0m\u001b[1;33m.\u001b[0m\u001b[0mgetcwd\u001b[0m\u001b[1;33m(\u001b[0m\u001b[1;33m)\u001b[0m\u001b[1;33m)\u001b[0m\u001b[1;33m\u001b[0m\u001b[1;33m\u001b[0m\u001b[0m\n\u001b[0m",
            "\u001b[1;31mNameError\u001b[0m: name 'Path' is not defined"
          ]
        }
      ]
    },
    {
      "cell_type": "code",
      "metadata": {
        "id": "PrD3cQhggtUi",
        "colab_type": "code",
        "colab": {}
      },
      "source": [
        ""
      ],
      "execution_count": 0,
      "outputs": []
    }
  ]
}