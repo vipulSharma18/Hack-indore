{
 "cells": [
  {
   "cell_type": "code",
   "execution_count": 1,
   "metadata": {},
   "outputs": [],
   "source": [
    "import os\n",
    "import numpy as np\n",
    "from scipy import misc, ndimage\n",
    "\n",
    "DIM1 = 384\n",
    "DIM2 = 512"
   ]
  },
  {
   "cell_type": "code",
   "execution_count": 2,
   "metadata": {},
   "outputs": [],
   "source": [
    "def resize(image, dim1, dim2):\n",
    "    return misc.imresize(image,(dim1, dim2))\n"
   ]
  },
  {
   "cell_type": "code",
   "execution_count": 3,
   "metadata": {},
   "outputs": [],
   "source": [
    "from PIL import Image\n",
    "from pathlib import Path"
   ]
  },
  {
   "cell_type": "code",
   "execution_count": 4,
   "metadata": {},
   "outputs": [],
   "source": [
    "def fileWalk(directory, destPath):\n",
    "    try:\n",
    "        os.makedirs(destPath)\n",
    "    except OSError:\n",
    "        if not os.path.isdir(destPath):\n",
    "            raise\n",
    "    for subdir, dirs, files in os.walk(directory):\n",
    "        for file in files:\n",
    "            if len(file) <= 4 or file[-4:] != '.jpg':\n",
    "                continue\n",
    "            im = Image.open(os.path.join(subdir,file))\n",
    "            rgb_im = im.convert('RGB')\n",
    "            rgb_im.save(os.path.join(subdir,file))\n",
    "            pic = misc.imread(os.path.join(subdir,file))\n",
    "            dim1 = len(pic)\n",
    "            dim2 = len(pic[0])\n",
    "            if dim1 > dim2:\n",
    "                pic = np.rot90(pic)\n",
    "            picResized = resize(pic, DIM1, DIM2)\n",
    "            misc.imsave(os.path.join(destPath, file), picResized)\n"
   ]
  },
  {
   "cell_type": "code",
   "execution_count": 5,
   "metadata": {},
   "outputs": [
    {
     "name": "stderr",
     "output_type": "stream",
     "text": [
      "C:\\Users\\Vipul\\Anaconda3\\lib\\site-packages\\ipykernel_launcher.py:14: DeprecationWarning: `imread` is deprecated!\n",
      "`imread` is deprecated in SciPy 1.0.0, and will be removed in 1.2.0.\n",
      "Use ``imageio.imread`` instead.\n",
      "  \n",
      "C:\\Users\\Vipul\\Anaconda3\\lib\\site-packages\\ipykernel_launcher.py:2: DeprecationWarning: `imresize` is deprecated!\n",
      "`imresize` is deprecated in SciPy 1.0.0, and will be removed in 1.2.0.\n",
      "Use ``skimage.transform.resize`` instead.\n",
      "  \n",
      "C:\\Users\\Vipul\\Anaconda3\\lib\\site-packages\\ipykernel_launcher.py:20: DeprecationWarning: `imsave` is deprecated!\n",
      "`imsave` is deprecated in SciPy 1.0.0, and will be removed in 1.2.0.\n",
      "Use ``imageio.imwrite`` instead.\n"
     ]
    }
   ],
   "source": [
    "def main():\n",
    "    prepath = os.getcwd()\n",
    "    testDir = os.path.join(prepath, 'test')\n",
    "    prepathTrain = prepath + \"\\\\train\"\n",
    "    trainDirSolid = os.path.join(prepathTrain, \"solid_waste\")\n",
    "    trainDirWet = os.path.join(prepathTrain, \"wet_waste\")\n",
    "    prepathValid = prepath + \"\\\\valid\"\n",
    "    validDirSolid = os.path.join(prepathValid, \"solid_waste\")\n",
    "    validDirWet = os.path.join(prepathValid, \"wet_waste\")\n",
    "    DestPath = os.path.join(os.getcwd(), 'resized')\n",
    "    try:\n",
    "        os.makedirs(DestPath)\n",
    "    except OSError:\n",
    "        if not os.path.isdir(DestPath):\n",
    "            raise\n",
    "    \n",
    "    fileWalk(testDir, os.path.join(DestPath, \"test\"))\n",
    "    DestPath2 = os.path.join(DestPath, \"train\")\n",
    "    fileWalk(trainDirSolid, os.path.join(DestPath2, \"solid_waste\"))\n",
    "    fileWalk(trainDirWet, os.path.join(DestPath2, \"wet_waste\"))\n",
    "    DestPath3 = os.path.join(DestPath, \"valid\")\n",
    "    fileWalk(validDirSolid, os.path.join(DestPath3, \"solid_waste\"))\n",
    "    fileWalk(validDirWet, os.path.join(DestPath3, \"wet_waste\"))\n",
    "\n",
    "if __name__ == '__main__':\n",
    "    main()"
   ]
  },
  {
   "cell_type": "code",
   "execution_count": null,
   "metadata": {},
   "outputs": [],
   "source": []
  }
 ],
 "metadata": {
  "kernelspec": {
   "display_name": "Python 3",
   "language": "python",
   "name": "python3"
  },
  "language_info": {
   "name": ""
  }
 },
 "nbformat": 4,
 "nbformat_minor": 2
}
